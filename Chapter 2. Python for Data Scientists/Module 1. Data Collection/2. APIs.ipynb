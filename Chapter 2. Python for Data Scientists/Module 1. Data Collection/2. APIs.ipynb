{
 "cells": [
  {
   "cell_type": "markdown",
   "metadata": {},
   "source": [
    "# APIs\n",
    "\n",
    "## Learning objectives\n",
    "- Learn what a REST API is\n",
    "- Use REST APIs to obtain data\n",
    "\n",
    "In the last notebook, we looked at scraping the web to obtain some (housing) data. In many cases, especially when wanting textual data, we may need to resort to scraping the web. However, some websites offer web APIs we may access to pull information from. Information coming from APIs are returned in a structured format, such as JSON.\n",
    "\n",
    "The word API keeps popping... but what is it? And what is a REST API?\n",
    "\n",
    "An **API** stands for Application Programmable Interface. When we are writing a program/code, we would often need to interface with other people's code (e.g. a library). An API defines the rules we need to follow to talk to the code (e.g. function names).\n",
    "\n",
    "A **REST API** allows communication over HTTP. The client sends a request, and the server receives a response. Requests will take on one four following types: GET, PUT, POST, and DELETE. Most related to pulling data from other services (via APIs) is **GET**. As the name implies, this is the HTTP Method we use when we want to request some data.\n",
    "\n",
    "**So how do we request data?**\n",
    "Well, we need a place to request data from, and this comes in the form of an endpoint URL. An endpoint URL usually looks something along these lines:\n",
    "\n",
    "![](images/api_url_structure.png)\n",
    "\n",
    "Let's visit the github API endpoint to see what the **response** is: https://api.github.com/users/ai-core/repos?sort=pushed&direction=desc\n",
    "\n",
    "As we can see, the response from calling the Github API is a JSON object. However, this doesn't necessarily have to be the case - the developer who coded the API could have allowed for any file format to be returned (XML, CSV, Images etc.). For gathering data through APIs, JSON is typically the easiest to work with, so where possible, we should favour this."
   ]
  },
  {
   "cell_type": "markdown",
   "metadata": {},
   "source": [
    "### HTTP Codes\n",
    "<img src=\"https://infidigit.b-cdn.net/wp-content/uploads/2019/12/20191227_012601_0000.png\" style=\"width: 350px\"/>"
   ]
  },
  {
   "cell_type": "markdown",
   "metadata": {},
   "source": [
    "Read the docs! https://api.stackexchange.com/docs"
   ]
  },
  {
   "cell_type": "markdown",
   "metadata": {},
   "source": [
    "Let's collect data from StackExchange's API. Here we'll be working in a slightly roundabout fashion to pull the data we want from their API. This is for teaching purposes, so we can understand the structure of JSON, and for you to get some hands on experience with using a REST API.\n",
    "\n",
    "We'll be collecting the body/contents of questions posted on StackOverflow. To do this, we'll first pull some posts within a date range. If the type of the post is a question, we'll make another API request to StackExchange's questions endpoint to pull the body of the question."
   ]
  },
  {
   "cell_type": "code",
   "execution_count": null,
   "metadata": {},
   "outputs": [],
   "source": [
    "import requests\n",
    "# api key\n",
    "ROOT_URL = \"https://api.stackexchange.com\"\n",
    "POSTS_ENDPOINT = \"/2.2/posts?fromdate=1596240000&todate=1596585600&order=desc&sort=activity&site=stackoverflow\"\n",
    "r = requests.get(ROOT_URL+POSTS_ENDPOINT)"
   ]
  },
  {
   "cell_type": "code",
   "execution_count": null,
   "metadata": {},
   "outputs": [],
   "source": [
    "r.status_code"
   ]
  },
  {
   "cell_type": "code",
   "execution_count": null,
   "metadata": {
    "scrolled": true
   },
   "outputs": [],
   "source": [
    "r.json()"
   ]
  },
  {
   "cell_type": "code",
   "execution_count": null,
   "metadata": {},
   "outputs": [],
   "source": [
    "def get_questions(items_object):\n",
    "    data = {\"display_name\": [], \"profile_image_url\": [], \"post_id\": [], \"post_contents\": []}\n",
    "    \n",
    "    ## Loop over the items object. For the relevant fields in the 'data' variable defined above,\n",
    "    ## Populate those fields IF the type of the post is a question.\n",
    "    ## If the type of a post is a question, additionally a request to the relevent API method to obtain the question body\n",
    "    ## READ READ READ the documentation (or Google it 🙄) to find out how to do so\n",
    "    ## The question body should be populated in the 'post_contents' field\n",
    "    ## Return the data object"
   ]
  },
  {
   "cell_type": "code",
   "execution_count": null,
   "metadata": {},
   "outputs": [],
   "source": [
    "import pprint\n",
    "\n",
    "questions = get_questions(r.json()[\"items\"])\n",
    "pprint.pprint(questions)"
   ]
  },
  {
   "cell_type": "code",
   "execution_count": null,
   "metadata": {
    "scrolled": false
   },
   "outputs": [],
   "source": [
    "for dn, piu, pi, pc in zip(questions[\"display_name\"], questions[\"profile_image_url\"], questions[\"post_id\"], questions[\"post_contents\"]):\n",
    "    print(\"Display Name:\", dn)\n",
    "    print(\"Profile Image URL:\", piu)\n",
    "    print(\"Post ID:\", pi)\n",
    "    print(\"Post Body:\", pc)\n",
    "    print()"
   ]
  }
 ],
 "metadata": {
  "kernelspec": {
   "display_name": "Python 3",
   "language": "python",
   "name": "python3"
  },
  "language_info": {
   "codemirror_mode": {
    "name": "ipython",
    "version": 3
   },
   "file_extension": ".py",
   "mimetype": "text/x-python",
   "name": "python",
   "nbconvert_exporter": "python",
   "pygments_lexer": "ipython3",
   "version": "3.7.6"
  }
 },
 "nbformat": 4,
 "nbformat_minor": 4
}
